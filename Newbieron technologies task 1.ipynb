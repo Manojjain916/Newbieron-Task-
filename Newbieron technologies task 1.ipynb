{
 "cells": [
  {
   "cell_type": "code",
   "execution_count": 1,
   "id": "03534fbb",
   "metadata": {},
   "outputs": [],
   "source": [
    "import os\n",
    "import requests\n",
    "from bs4 import BeautifulSoup\n",
    "import urllib"
   ]
  },
  {
   "cell_type": "code",
   "execution_count": 7,
   "id": "fafb2978",
   "metadata": {
    "collapsed": true
   },
   "outputs": [
    {
     "name": "stdout",
     "output_type": "stream",
     "text": [
      "Enter name:virat kohli\n",
      "Downloaded 20 images.\n"
     ]
    }
   ],
   "source": [
    "baseurl=\"https://www.google.com/search?q={}&source=lnms&tbm=isch\"\n",
    "nameofperson=input('Enter name:')\n",
    "format_query=urllib.parse.quote_plus(nameofperson)\n",
    "url=base_url.format(format_query)\n",
    "response=requests.get(url)\n",
    "soup = BeautifulSoup(response.text, \"html.parser\")\n",
    "\n",
    "img_elements = soup.find_all(\"img\")\n",
    "directory = \"downloaded_images\"\n",
    "os.makedirs(directory, exist_ok=True)\n",
    "\n",
    "count = 0\n",
    "for img in img_elements:\n",
    "    try:\n",
    "        # Get the source URL of the image\n",
    "        img_url = img[\"src\"]\n",
    "\n",
    "        # Download the image\n",
    "        image_data = requests.get(img_url).content\n",
    "\n",
    "        # Save the image to a file\n",
    "        file_name = f\"{directory}/{count}.jpg\"\n",
    "        with open(file_name, \"wb\") as file:\n",
    "            file.write(image_data)\n",
    "\n",
    "        count += 1\n",
    "\n",
    "        # Break the loop if the desired number of images has been downloaded\n",
    "        if count == 50:\n",
    "            break\n",
    "\n",
    "    except:\n",
    "        continue\n",
    "\n",
    "print(f\"Downloaded {count} images.\")"
   ]
  },
  {
   "cell_type": "code",
   "execution_count": null,
   "id": "cff71f0b",
   "metadata": {},
   "outputs": [],
   "source": []
  }
 ],
 "metadata": {
  "kernelspec": {
   "display_name": "Python 3 (ipykernel)",
   "language": "python",
   "name": "python3"
  },
  "language_info": {
   "codemirror_mode": {
    "name": "ipython",
    "version": 3
   },
   "file_extension": ".py",
   "mimetype": "text/x-python",
   "name": "python",
   "nbconvert_exporter": "python",
   "pygments_lexer": "ipython3",
   "version": "3.9.12"
  }
 },
 "nbformat": 4,
 "nbformat_minor": 5
}
